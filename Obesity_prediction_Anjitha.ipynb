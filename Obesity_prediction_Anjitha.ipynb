{
 "cells": [
  {
   "cell_type": "markdown",
   "id": "7b481477",
   "metadata": {},
   "source": [
    "Question: Obesity detection Model\n",
    "Background:\n",
    "    \n",
    "You are a data scientist working for a health and wellness company that aims to promote healthy living and combat obesity.\n",
    "The company has collected data from individuals regarding their demographic information, eating habits, and physical condition.\n",
    "Your task is to develop a machine learning model that can accurately predict the weight category of individuals based on these \n",
    "factors.\n",
    "\n",
    "\n",
    "\n",
    "The goal of the model is to help individuals understand their risk of obesity based on their lifestyle choices and provide\n",
    "personalized recommendations for healthier living. By accurately predicting obesity risk, the company aims to empower \n",
    "individuals to make informed decisions about their health and well-being."
   ]
  },
  {
   "cell_type": "markdown",
   "id": "30526d45",
   "metadata": {},
   "source": [
    "Dataset Description:\n",
    "    \n",
    "•Gender\n",
    "\n",
    "•Age\n",
    "\n",
    "•Height\n",
    "\n",
    "•Weight\n",
    "\n",
    "•Eating Habits:\n",
    "    \n",
    "    o FAVC: Frequent consumption of high caloric food\n",
    "    o FCVC- Frequency of consumption of vegetables\n",
    "    o NCP: Number of main meals per day\n",
    "    o CAEC: Consumption of food between meals\n",
    "    o CH2O: Consumption of water daily\n",
    "    o CALC: Consumption of alcohol\n",
    "        \n",
    "•Physical Condition:\n",
    "    \n",
    "    o SCC: Calories consumption monitoring\n",
    "    o FAF: Physical activity frequency\n",
    "    o TUE: Time using technology devices\n",
    "    o MTRANS: Transportation used"
   ]
  },
  {
   "cell_type": "markdown",
   "id": "af846bfb",
   "metadata": {},
   "source": [
    "Task:\n",
    "    \n",
    "    \n",
    "Your task is to Build a machine learning model to predict the weight category of individuals based on their demographic \n",
    "information, eating habits, and physical condition."
   ]
  },
  {
   "cell_type": "markdown",
   "id": "6cbd1bae",
   "metadata": {},
   "source": [
    "## Importing Libraries"
   ]
  },
  {
   "cell_type": "code",
   "execution_count": 1,
   "id": "a11c6a96",
   "metadata": {},
   "outputs": [],
   "source": [
    "import numpy as np\n",
    "import pandas as pd\n",
    "\n",
    "import matplotlib.pyplot as plt\n",
    "import seaborn as sns\n",
    "%matplotlib inline\n",
    "\n",
    "from sklearn.preprocessing import StandardScaler\n",
    "from sklearn.model_selection import train_test_split\n",
    "from sklearn.metrics import mean_squared_error, accuracy_score,mean_absolute_error,r2_score\n",
    "from sklearn.linear_model import LinearRegression\n",
    "from sklearn.ensemble import RandomForestRegressor"
   ]
  },
  {
   "cell_type": "markdown",
   "id": "771aeb63",
   "metadata": {},
   "source": [
    "## Read the dataset"
   ]
  },
  {
   "cell_type": "code",
   "execution_count": 2,
   "id": "3931bdf5",
   "metadata": {},
   "outputs": [],
   "source": [
    "df = pd.read_csv(r'C:\\Users\\LENOVO\\Desktop\\DSA\\datasets\\Obesity.csv')"
   ]
  },
  {
   "cell_type": "markdown",
   "id": "56cd3b6e",
   "metadata": {},
   "source": [
    "## Exploratory data Analysis"
   ]
  },
  {
   "cell_type": "code",
   "execution_count": 3,
   "id": "54da102a",
   "metadata": {},
   "outputs": [
    {
     "data": {
      "text/html": [
       "<div>\n",
       "<style scoped>\n",
       "    .dataframe tbody tr th:only-of-type {\n",
       "        vertical-align: middle;\n",
       "    }\n",
       "\n",
       "    .dataframe tbody tr th {\n",
       "        vertical-align: top;\n",
       "    }\n",
       "\n",
       "    .dataframe thead th {\n",
       "        text-align: right;\n",
       "    }\n",
       "</style>\n",
       "<table border=\"1\" class=\"dataframe\">\n",
       "  <thead>\n",
       "    <tr style=\"text-align: right;\">\n",
       "      <th></th>\n",
       "      <th>Gender</th>\n",
       "      <th>Age</th>\n",
       "      <th>Height</th>\n",
       "      <th>Weight</th>\n",
       "      <th>family_history_with_overweight</th>\n",
       "      <th>FAVC</th>\n",
       "      <th>FCVC</th>\n",
       "      <th>NCP</th>\n",
       "      <th>CAEC</th>\n",
       "      <th>SMOKE</th>\n",
       "      <th>CH2O</th>\n",
       "      <th>SCC</th>\n",
       "      <th>FAF</th>\n",
       "      <th>TUE</th>\n",
       "      <th>CALC</th>\n",
       "      <th>MTRANS</th>\n",
       "      <th>NObeyesdad</th>\n",
       "    </tr>\n",
       "  </thead>\n",
       "  <tbody>\n",
       "    <tr>\n",
       "      <th>0</th>\n",
       "      <td>Female</td>\n",
       "      <td>21.0</td>\n",
       "      <td>1.62</td>\n",
       "      <td>64.0</td>\n",
       "      <td>yes</td>\n",
       "      <td>no</td>\n",
       "      <td>2.0</td>\n",
       "      <td>3.0</td>\n",
       "      <td>Sometimes</td>\n",
       "      <td>no</td>\n",
       "      <td>2.0</td>\n",
       "      <td>no</td>\n",
       "      <td>0.0</td>\n",
       "      <td>1.0</td>\n",
       "      <td>no</td>\n",
       "      <td>Public_Transportation</td>\n",
       "      <td>Normal_Weight</td>\n",
       "    </tr>\n",
       "    <tr>\n",
       "      <th>1</th>\n",
       "      <td>Female</td>\n",
       "      <td>21.0</td>\n",
       "      <td>1.52</td>\n",
       "      <td>56.0</td>\n",
       "      <td>yes</td>\n",
       "      <td>no</td>\n",
       "      <td>3.0</td>\n",
       "      <td>3.0</td>\n",
       "      <td>Sometimes</td>\n",
       "      <td>yes</td>\n",
       "      <td>3.0</td>\n",
       "      <td>yes</td>\n",
       "      <td>3.0</td>\n",
       "      <td>0.0</td>\n",
       "      <td>Sometimes</td>\n",
       "      <td>Public_Transportation</td>\n",
       "      <td>Normal_Weight</td>\n",
       "    </tr>\n",
       "    <tr>\n",
       "      <th>2</th>\n",
       "      <td>Male</td>\n",
       "      <td>23.0</td>\n",
       "      <td>1.80</td>\n",
       "      <td>77.0</td>\n",
       "      <td>yes</td>\n",
       "      <td>no</td>\n",
       "      <td>2.0</td>\n",
       "      <td>3.0</td>\n",
       "      <td>Sometimes</td>\n",
       "      <td>no</td>\n",
       "      <td>2.0</td>\n",
       "      <td>no</td>\n",
       "      <td>2.0</td>\n",
       "      <td>1.0</td>\n",
       "      <td>Frequently</td>\n",
       "      <td>Public_Transportation</td>\n",
       "      <td>Normal_Weight</td>\n",
       "    </tr>\n",
       "    <tr>\n",
       "      <th>3</th>\n",
       "      <td>Male</td>\n",
       "      <td>27.0</td>\n",
       "      <td>1.80</td>\n",
       "      <td>87.0</td>\n",
       "      <td>no</td>\n",
       "      <td>no</td>\n",
       "      <td>3.0</td>\n",
       "      <td>3.0</td>\n",
       "      <td>Sometimes</td>\n",
       "      <td>no</td>\n",
       "      <td>2.0</td>\n",
       "      <td>no</td>\n",
       "      <td>2.0</td>\n",
       "      <td>0.0</td>\n",
       "      <td>Frequently</td>\n",
       "      <td>Walking</td>\n",
       "      <td>Overweight_Level_I</td>\n",
       "    </tr>\n",
       "    <tr>\n",
       "      <th>4</th>\n",
       "      <td>Male</td>\n",
       "      <td>22.0</td>\n",
       "      <td>1.78</td>\n",
       "      <td>89.8</td>\n",
       "      <td>no</td>\n",
       "      <td>no</td>\n",
       "      <td>2.0</td>\n",
       "      <td>1.0</td>\n",
       "      <td>Sometimes</td>\n",
       "      <td>no</td>\n",
       "      <td>2.0</td>\n",
       "      <td>no</td>\n",
       "      <td>0.0</td>\n",
       "      <td>0.0</td>\n",
       "      <td>Sometimes</td>\n",
       "      <td>Public_Transportation</td>\n",
       "      <td>Overweight_Level_II</td>\n",
       "    </tr>\n",
       "  </tbody>\n",
       "</table>\n",
       "</div>"
      ],
      "text/plain": [
       "   Gender   Age  Height  Weight family_history_with_overweight FAVC  FCVC  \\\n",
       "0  Female  21.0    1.62    64.0                            yes   no   2.0   \n",
       "1  Female  21.0    1.52    56.0                            yes   no   3.0   \n",
       "2    Male  23.0    1.80    77.0                            yes   no   2.0   \n",
       "3    Male  27.0    1.80    87.0                             no   no   3.0   \n",
       "4    Male  22.0    1.78    89.8                             no   no   2.0   \n",
       "\n",
       "   NCP       CAEC SMOKE  CH2O  SCC  FAF  TUE        CALC  \\\n",
       "0  3.0  Sometimes    no   2.0   no  0.0  1.0          no   \n",
       "1  3.0  Sometimes   yes   3.0  yes  3.0  0.0   Sometimes   \n",
       "2  3.0  Sometimes    no   2.0   no  2.0  1.0  Frequently   \n",
       "3  3.0  Sometimes    no   2.0   no  2.0  0.0  Frequently   \n",
       "4  1.0  Sometimes    no   2.0   no  0.0  0.0   Sometimes   \n",
       "\n",
       "                  MTRANS           NObeyesdad  \n",
       "0  Public_Transportation        Normal_Weight  \n",
       "1  Public_Transportation        Normal_Weight  \n",
       "2  Public_Transportation        Normal_Weight  \n",
       "3                Walking   Overweight_Level_I  \n",
       "4  Public_Transportation  Overweight_Level_II  "
      ]
     },
     "execution_count": 3,
     "metadata": {},
     "output_type": "execute_result"
    }
   ],
   "source": [
    "# view the first few rows\n",
    "\n",
    "df.head()"
   ]
  },
  {
   "cell_type": "code",
   "execution_count": 4,
   "id": "3f6b6f49",
   "metadata": {},
   "outputs": [
    {
     "data": {
      "text/plain": [
       "(2111, 17)"
      ]
     },
     "execution_count": 4,
     "metadata": {},
     "output_type": "execute_result"
    }
   ],
   "source": [
    "# rows and columns in the dataset\n",
    "\n",
    "df.shape"
   ]
  },
  {
   "cell_type": "code",
   "execution_count": 5,
   "id": "cefd46d8",
   "metadata": {},
   "outputs": [
    {
     "name": "stdout",
     "output_type": "stream",
     "text": [
      "<class 'pandas.core.frame.DataFrame'>\n",
      "RangeIndex: 2111 entries, 0 to 2110\n",
      "Data columns (total 17 columns):\n",
      " #   Column                          Non-Null Count  Dtype  \n",
      "---  ------                          --------------  -----  \n",
      " 0   Gender                          2102 non-null   object \n",
      " 1   Age                             2111 non-null   float64\n",
      " 2   Height                          2101 non-null   float64\n",
      " 3   Weight                          2111 non-null   float64\n",
      " 4   family_history_with_overweight  2105 non-null   object \n",
      " 5   FAVC                            2111 non-null   object \n",
      " 6   FCVC                            2111 non-null   float64\n",
      " 7   NCP                             2111 non-null   float64\n",
      " 8   CAEC                            2102 non-null   object \n",
      " 9   SMOKE                           2111 non-null   object \n",
      " 10  CH2O                            2111 non-null   float64\n",
      " 11  SCC                             2104 non-null   object \n",
      " 12  FAF                             2111 non-null   float64\n",
      " 13  TUE                             2111 non-null   float64\n",
      " 14  CALC                            2111 non-null   object \n",
      " 15  MTRANS                          2104 non-null   object \n",
      " 16  NObeyesdad                      2111 non-null   object \n",
      "dtypes: float64(8), object(9)\n",
      "memory usage: 280.5+ KB\n"
     ]
    }
   ],
   "source": [
    "# checking the datatypes\n",
    "\n",
    "df.info()"
   ]
  },
  {
   "cell_type": "code",
   "execution_count": 6,
   "id": "6caedb58",
   "metadata": {},
   "outputs": [
    {
     "data": {
      "text/html": [
       "<div>\n",
       "<style scoped>\n",
       "    .dataframe tbody tr th:only-of-type {\n",
       "        vertical-align: middle;\n",
       "    }\n",
       "\n",
       "    .dataframe tbody tr th {\n",
       "        vertical-align: top;\n",
       "    }\n",
       "\n",
       "    .dataframe thead th {\n",
       "        text-align: right;\n",
       "    }\n",
       "</style>\n",
       "<table border=\"1\" class=\"dataframe\">\n",
       "  <thead>\n",
       "    <tr style=\"text-align: right;\">\n",
       "      <th></th>\n",
       "      <th>Age</th>\n",
       "      <th>Height</th>\n",
       "      <th>Weight</th>\n",
       "      <th>FCVC</th>\n",
       "      <th>NCP</th>\n",
       "      <th>CH2O</th>\n",
       "      <th>FAF</th>\n",
       "      <th>TUE</th>\n",
       "    </tr>\n",
       "  </thead>\n",
       "  <tbody>\n",
       "    <tr>\n",
       "      <th>count</th>\n",
       "      <td>2111.000000</td>\n",
       "      <td>2101.000000</td>\n",
       "      <td>2111.000000</td>\n",
       "      <td>2111.000000</td>\n",
       "      <td>2111.000000</td>\n",
       "      <td>2111.000000</td>\n",
       "      <td>2111.000000</td>\n",
       "      <td>2111.000000</td>\n",
       "    </tr>\n",
       "    <tr>\n",
       "      <th>mean</th>\n",
       "      <td>24.488346</td>\n",
       "      <td>1.701995</td>\n",
       "      <td>86.586058</td>\n",
       "      <td>2.419043</td>\n",
       "      <td>2.685628</td>\n",
       "      <td>2.008011</td>\n",
       "      <td>1.010298</td>\n",
       "      <td>0.657866</td>\n",
       "    </tr>\n",
       "    <tr>\n",
       "      <th>std</th>\n",
       "      <td>7.365358</td>\n",
       "      <td>0.093288</td>\n",
       "      <td>26.191172</td>\n",
       "      <td>0.533927</td>\n",
       "      <td>0.778039</td>\n",
       "      <td>0.612953</td>\n",
       "      <td>0.850592</td>\n",
       "      <td>0.608927</td>\n",
       "    </tr>\n",
       "    <tr>\n",
       "      <th>min</th>\n",
       "      <td>2.000000</td>\n",
       "      <td>1.450000</td>\n",
       "      <td>39.000000</td>\n",
       "      <td>1.000000</td>\n",
       "      <td>1.000000</td>\n",
       "      <td>1.000000</td>\n",
       "      <td>0.000000</td>\n",
       "      <td>0.000000</td>\n",
       "    </tr>\n",
       "    <tr>\n",
       "      <th>25%</th>\n",
       "      <td>19.947192</td>\n",
       "      <td>1.630000</td>\n",
       "      <td>65.473343</td>\n",
       "      <td>2.000000</td>\n",
       "      <td>2.658738</td>\n",
       "      <td>1.584812</td>\n",
       "      <td>0.124505</td>\n",
       "      <td>0.000000</td>\n",
       "    </tr>\n",
       "    <tr>\n",
       "      <th>50%</th>\n",
       "      <td>22.804818</td>\n",
       "      <td>1.701284</td>\n",
       "      <td>83.000000</td>\n",
       "      <td>2.385502</td>\n",
       "      <td>3.000000</td>\n",
       "      <td>2.000000</td>\n",
       "      <td>1.000000</td>\n",
       "      <td>0.625350</td>\n",
       "    </tr>\n",
       "    <tr>\n",
       "      <th>75%</th>\n",
       "      <td>26.000000</td>\n",
       "      <td>1.768834</td>\n",
       "      <td>107.430682</td>\n",
       "      <td>3.000000</td>\n",
       "      <td>3.000000</td>\n",
       "      <td>2.477420</td>\n",
       "      <td>1.666678</td>\n",
       "      <td>1.000000</td>\n",
       "    </tr>\n",
       "    <tr>\n",
       "      <th>max</th>\n",
       "      <td>99.000000</td>\n",
       "      <td>1.980000</td>\n",
       "      <td>173.000000</td>\n",
       "      <td>3.000000</td>\n",
       "      <td>4.000000</td>\n",
       "      <td>3.000000</td>\n",
       "      <td>3.000000</td>\n",
       "      <td>2.000000</td>\n",
       "    </tr>\n",
       "  </tbody>\n",
       "</table>\n",
       "</div>"
      ],
      "text/plain": [
       "               Age       Height       Weight         FCVC          NCP  \\\n",
       "count  2111.000000  2101.000000  2111.000000  2111.000000  2111.000000   \n",
       "mean     24.488346     1.701995    86.586058     2.419043     2.685628   \n",
       "std       7.365358     0.093288    26.191172     0.533927     0.778039   \n",
       "min       2.000000     1.450000    39.000000     1.000000     1.000000   \n",
       "25%      19.947192     1.630000    65.473343     2.000000     2.658738   \n",
       "50%      22.804818     1.701284    83.000000     2.385502     3.000000   \n",
       "75%      26.000000     1.768834   107.430682     3.000000     3.000000   \n",
       "max      99.000000     1.980000   173.000000     3.000000     4.000000   \n",
       "\n",
       "              CH2O          FAF          TUE  \n",
       "count  2111.000000  2111.000000  2111.000000  \n",
       "mean      2.008011     1.010298     0.657866  \n",
       "std       0.612953     0.850592     0.608927  \n",
       "min       1.000000     0.000000     0.000000  \n",
       "25%       1.584812     0.124505     0.000000  \n",
       "50%       2.000000     1.000000     0.625350  \n",
       "75%       2.477420     1.666678     1.000000  \n",
       "max       3.000000     3.000000     2.000000  "
      ]
     },
     "execution_count": 6,
     "metadata": {},
     "output_type": "execute_result"
    }
   ],
   "source": [
    "# statistical analysis\n",
    "\n",
    "df.describe()"
   ]
  },
  {
   "cell_type": "code",
   "execution_count": 7,
   "id": "1e254fa7",
   "metadata": {},
   "outputs": [
    {
     "data": {
      "text/plain": [
       "Gender                             9\n",
       "Age                                0\n",
       "Height                            10\n",
       "Weight                             0\n",
       "family_history_with_overweight     6\n",
       "FAVC                               0\n",
       "FCVC                               0\n",
       "NCP                                0\n",
       "CAEC                               9\n",
       "SMOKE                              0\n",
       "CH2O                               0\n",
       "SCC                                7\n",
       "FAF                                0\n",
       "TUE                                0\n",
       "CALC                               0\n",
       "MTRANS                             7\n",
       "NObeyesdad                         0\n",
       "dtype: int64"
      ]
     },
     "execution_count": 7,
     "metadata": {},
     "output_type": "execute_result"
    }
   ],
   "source": [
    "# number of missing values\n",
    "\n",
    "df.isna().sum()"
   ]
  },
  {
   "cell_type": "markdown",
   "id": "12efcbee",
   "metadata": {},
   "source": [
    "The columns Height,family_history_with_overweight,CAEC ,SCC,MTRANS contains missing values"
   ]
  },
  {
   "cell_type": "markdown",
   "id": "296b1a7c",
   "metadata": {},
   "source": [
    "## Data Visualization"
   ]
  },
  {
   "cell_type": "code",
   "execution_count": 8,
   "id": "9765a997",
   "metadata": {},
   "outputs": [
    {
     "data": {
      "text/plain": [
       "Male      1061\n",
       "Female    1041\n",
       "Name: Gender, dtype: int64"
      ]
     },
     "execution_count": 8,
     "metadata": {},
     "output_type": "execute_result"
    }
   ],
   "source": [
    "df.Gender.value_counts()"
   ]
  },
  {
   "cell_type": "code",
   "execution_count": 9,
   "id": "6ba417ae",
   "metadata": {},
   "outputs": [
    {
     "data": {
      "image/png": "[encoded data removed]",
      "text/plain": [
       "<Figure size 640x480 with 1 Axes>"
      ]
     },
     "metadata": {},
     "output_type": "display_data"
    }
   ],
   "source": [
    "## countplot of Gender wrt family_history_with_overweight\n",
    "\n",
    "sns.countplot(x='Gender', data=df,hue='family_history_with_overweight' )\n",
    "plt.xlabel('Gender')\n",
    "plt.ylabel('count')\n",
    "plt.show()"
   ]
  },
  {
   "cell_type": "code",
   "execution_count": 10,
   "id": "16cf162d",
   "metadata": {},
   "outputs": [
    {
     "data": {
      "image/png": "[encoded data removed]",
      "text/plain": [
       "<Figure size 640x480 with 1 Axes>"
      ]
     },
     "metadata": {},
     "output_type": "display_data"
    }
   ],
   "source": [
    "## countplot of Gender wrt smoking habit\n",
    "\n",
    "sns.countplot(x='Gender', data=df,hue='SMOKE' )\n",
    "plt.xlabel('Gender')\n",
    "plt.ylabel('count')\n",
    "plt.show()"
   ]
  },
  {
   "cell_type": "code",
   "execution_count": 11,
   "id": "cfcb2e04",
   "metadata": {},
   "outputs": [
    {
     "data": {
      "image/png": "[encoded data removed]",
      "text/plain": [
       "<Figure size 640x480 with 1 Axes>"
      ]
     },
     "metadata": {},
     "output_type": "display_data"
    }
   ],
   "source": [
    "## countplot of Gender wrt NOBeyesdad\n",
    "\n",
    "sns.countplot(x='Gender', data=df,hue='NObeyesdad' )\n",
    "plt.xlabel('Gender')\n",
    "plt.ylabel('count')\n",
    "plt.show()"
   ]
  },
  {
   "cell_type": "code",
   "execution_count": 12,
   "id": "e9e0b4e1",
   "metadata": {},
   "outputs": [
    {
     "name": "stderr",
     "output_type": "stream",
     "text": [
      "C:\\Users\\LENOVO\\AppData\\Local\\Temp\\ipykernel_9972\\3237795141.py:3: FutureWarning: The default value of numeric_only in DataFrame.corr is deprecated. In a future version, it will default to False. Select only valid columns or specify the value of numeric_only to silence this warning.\n",
      "  correlation_matrix = df.corr()\n"
     ]
    },
    {
     "data": {
      "image/png": "[encoded data removed]",
      "text/plain": [
       "<Figure size 1000x600 with 2 Axes>"
      ]
     },
     "metadata": {},
     "output_type": "display_data"
    }
   ],
   "source": [
    "# Correlation heatmap\n",
    "\n",
    "correlation_matrix = df.corr()\n",
    "plt.figure(figsize=(10, 6))\n",
    "sns.heatmap(correlation_matrix, annot=True, cmap='coolwarm')\n",
    "plt.title('Correlation Heatmap')\n",
    "plt.show()"
   ]
  },
  {
   "cell_type": "markdown",
   "id": "45e47fbd",
   "metadata": {},
   "source": [
    "## Data Preprocessing"
   ]
  },
  {
   "cell_type": "code",
   "execution_count": 13,
   "id": "e7528078",
   "metadata": {},
   "outputs": [
    {
     "name": "stdout",
     "output_type": "stream",
     "text": [
      "Gender                             9\n",
      "Age                                0\n",
      "Height                            10\n",
      "Weight                             0\n",
      "family_history_with_overweight     6\n",
      "FAVC                               0\n",
      "FCVC                               0\n",
      "NCP                                0\n",
      "CAEC                               9\n",
      "SMOKE                              0\n",
      "CH2O                               0\n",
      "SCC                                7\n",
      "FAF                                0\n",
      "TUE                                0\n",
      "CALC                               0\n",
      "MTRANS                             7\n",
      "NObeyesdad                         0\n",
      "dtype: int64\n"
     ]
    }
   ],
   "source": [
    "print(df.isnull().sum())"
   ]
  },
  {
   "cell_type": "code",
   "execution_count": 14,
   "id": "879cb209",
   "metadata": {},
   "outputs": [],
   "source": [
    "# importing missing values\n",
    "\n",
    "# Impute missing values in the 'Height' columnnwith the mean\n",
    "data = df\n",
    "\n",
    "data['Height'] = data['Height'].fillna(data['Height'].mean())"
   ]
  },
  {
   "cell_type": "code",
   "execution_count": 15,
   "id": "23920598",
   "metadata": {},
   "outputs": [],
   "source": [
    "# Impute missing values in all other columnnwith the mode\n",
    "\n",
    "data = data.fillna(data.mode().iloc[0])"
   ]
  },
  {
   "cell_type": "code",
   "execution_count": 16,
   "id": "84ae6305",
   "metadata": {},
   "outputs": [
    {
     "data": {
      "text/plain": [
       "Gender                            0\n",
       "Age                               0\n",
       "Height                            0\n",
       "Weight                            0\n",
       "family_history_with_overweight    0\n",
       "FAVC                              0\n",
       "FCVC                              0\n",
       "NCP                               0\n",
       "CAEC                              0\n",
       "SMOKE                             0\n",
       "CH2O                              0\n",
       "SCC                               0\n",
       "FAF                               0\n",
       "TUE                               0\n",
       "CALC                              0\n",
       "MTRANS                            0\n",
       "NObeyesdad                        0\n",
       "dtype: int64"
      ]
     },
     "execution_count": 16,
     "metadata": {},
     "output_type": "execute_result"
    }
   ],
   "source": [
    "data.isna().sum()"
   ]
  },
  {
   "cell_type": "markdown",
   "id": "281a7595",
   "metadata": {},
   "source": [
    "## Checking for outliers"
   ]
  },
  {
   "cell_type": "code",
   "execution_count": 17,
   "id": "dc283b8c",
   "metadata": {},
   "outputs": [
    {
     "data": {
      "text/plain": [
       "<Axes: >"
      ]
     },
     "execution_count": 17,
     "metadata": {},
     "output_type": "execute_result"
    },
    {
     "data": {
      "image/png": "[encoded data removed]",
      "text/plain": [
       "<Figure size 640x480 with 1 Axes>"
      ]
     },
     "metadata": {},
     "output_type": "display_data"
    }
   ],
   "source": [
    "sns.boxplot(data=data)"
   ]
  },
  {
   "cell_type": "markdown",
   "id": "b7e38880",
   "metadata": {},
   "source": [
    "## Removing outliers"
   ]
  },
  {
   "cell_type": "code",
   "execution_count": 18,
   "id": "8eecdba9",
   "metadata": {},
   "outputs": [
    {
     "name": "stdout",
     "output_type": "stream",
     "text": [
      "Old Shape:  (2111, 17)\n",
      "New Shape:  (1937, 17)\n"
     ]
    },
    {
     "data": {
      "text/plain": [
       "<Axes: xlabel='Age'>"
      ]
     },
     "execution_count": 18,
     "metadata": {},
     "output_type": "execute_result"
    },
    {
     "data": {
      "image/png": "[encoded data removed]",
      "text/plain": [
       "<Figure size 640x480 with 1 Axes>"
      ]
     },
     "metadata": {},
     "output_type": "display_data"
    }
   ],
   "source": [
    "# Removing outliers in Age column\n",
    "# Calculate the IQR\n",
    "Q1 = data['Age'].quantile(0.25)\n",
    "Q3 = data['Age'].quantile(0.75)\n",
    "IQR = Q3 - Q1\n",
    "\n",
    "print(\"Old Shape: \", data.shape)\n",
    "# Define a threshold for identifying outliers (e.g., 1.5 times the IQR)\n",
    "threshold = 1.5\n",
    "\n",
    "# Identify the outliers\n",
    "# Upper bound\n",
    "upper = np.where(data['Age'] >= (Q3+1.5*IQR))\n",
    " \n",
    "# Lower bound\n",
    "lower = np.where(data['Age'] <= (Q1-1.5*IQR))\n",
    " \n",
    "# Removing the Outliers\n",
    "data.drop(upper[0], inplace = True)\n",
    "data.drop(lower[0], inplace = True)\n",
    " \n",
    "print(\"New Shape: \", data.shape)\n",
    " \n",
    "sns.boxplot(x='Age', data=data)"
   ]
  },
  {
   "cell_type": "code",
   "execution_count": 19,
   "id": "34fe8a43",
   "metadata": {},
   "outputs": [
    {
     "name": "stdout",
     "output_type": "stream",
     "text": [
      "Old Shape:  (1937, 17)\n",
      "New Shape:  (1937, 17)\n"
     ]
    },
    {
     "data": {
      "text/plain": [
       "<Axes: xlabel='Weight'>"
      ]
     },
     "execution_count": 19,
     "metadata": {},
     "output_type": "execute_result"
    },
    {
     "data": {
      "image/png": "[encoded data removed]",
      "text/plain": [
       "<Figure size 640x480 with 1 Axes>"
      ]
     },
     "metadata": {},
     "output_type": "display_data"
    }
   ],
   "source": [
    "# Removing outliers in Weight column\n",
    "# Calculate the IQR\n",
    "Q1 = data['Weight'].quantile(0.25)\n",
    "Q3 = data['Weight'].quantile(0.75)\n",
    "IQR = Q3 - Q1\n",
    "\n",
    "print(\"Old Shape: \", data.shape)\n",
    "# Define a threshold for identifying outliers (e.g., 1.5 times the IQR)\n",
    "threshold = 1.5\n",
    "\n",
    "# Identify the outliers\n",
    "# Upper bound\n",
    "upper = np.where(data['Weight'] >= (Q3+1.5*IQR))\n",
    " \n",
    "# Lower bound\n",
    "lower = np.where(data['Weight'] <= (Q1-1.5*IQR))\n",
    " \n",
    "# Removing the Outliers\n",
    "data.drop(upper[0], inplace = True)\n",
    "data.drop(lower[0], inplace = True)\n",
    " \n",
    "print(\"New Shape: \", data.shape)\n",
    " \n",
    "sns.boxplot(x='Weight', data=data)"
   ]
  },
  {
   "cell_type": "code",
   "execution_count": 20,
   "id": "88cdaf82",
   "metadata": {},
   "outputs": [
    {
     "data": {
      "text/plain": [
       "(1937, 17)"
      ]
     },
     "execution_count": 20,
     "metadata": {},
     "output_type": "execute_result"
    }
   ],
   "source": [
    "data.shape"
   ]
  },
  {
   "cell_type": "code",
   "execution_count": 21,
   "id": "597b75e0",
   "metadata": {},
   "outputs": [
    {
     "data": {
      "text/plain": [
       "Male      1061\n",
       "Female    1041\n",
       "Name: Gender, dtype: int64"
      ]
     },
     "execution_count": 21,
     "metadata": {},
     "output_type": "execute_result"
    }
   ],
   "source": [
    "df.Gender.value_counts()"
   ]
  },
  {
   "cell_type": "code",
   "execution_count": 22,
   "id": "2ce4ca4e",
   "metadata": {},
   "outputs": [],
   "source": [
    "## Assigning numerical values \n",
    "\n",
    "Gender = {\"Male\": 0, \"Female\": 1} \n",
    "data['Gender'] = data['Gender'].map(Gender) \n",
    "\n",
    "family_history_with_overweight  = {\"yes\": 1, \"no\": 0} \n",
    "data['family_history_with_overweight'] = data['family_history_with_overweight'].map(family_history_with_overweight) \n",
    "\n",
    "\n",
    "NObeyesdad = {\"Obesity_Type_I\": 0, \"Obesity_Type_II\": 1, \"Obesity_Type_III\": 2,\"Overweight_Level_I\": 3,\"Overweight_Level_II\": 4,\"Normal_Weight\": 5,\"Insufficient_Weight\": 6}\n",
    "data['NObeyesdad'] = data['NObeyesdad'].map(NObeyesdad)"
   ]
  },
  {
   "cell_type": "code",
   "execution_count": 23,
   "id": "72aa4af6",
   "metadata": {},
   "outputs": [
    {
     "data": {
      "text/plain": [
       "2    324\n",
       "0    281\n",
       "5    276\n",
       "6    271\n",
       "1    268\n",
       "3    266\n",
       "4    251\n",
       "Name: NObeyesdad, dtype: int64"
      ]
     },
     "execution_count": 23,
     "metadata": {},
     "output_type": "execute_result"
    }
   ],
   "source": [
    "data.NObeyesdad.value_counts()"
   ]
  },
  {
   "cell_type": "code",
   "execution_count": 24,
   "id": "e249db53",
   "metadata": {},
   "outputs": [],
   "source": [
    "FAVC = {\"yes\": 1, \"no\": 0} \n",
    "data['FAVC'] = data['FAVC'].map(FAVC) \n",
    "\n",
    "CAEC = {\"Sometimes\": 0, \"Frequently\": 1, \"Always\": 2,\"no\": 3} \n",
    "data['CAEC'] = data['CAEC'].map(CAEC) \n",
    "\n",
    "SMOKE = {\"yes\": 1, \"no\": 0} \n",
    "data['SMOKE'] = data['SMOKE'].map(SMOKE) \n",
    "\n",
    "SCC = {\"yes\": 1, \"no\": 0} \n",
    "data['SCC'] = data['SCC'].map(SCC) \n",
    "\n",
    "CALC = {\"Sometimes\": 0, \"Frequently\": 1, \"Always\": 2,\"no\": 3} \n",
    "data['CALC'] = data['CALC'].map(CALC) \n",
    "\n",
    "MTRANS = {\"Public_Transportation\": 0, \"Automobile\": 1, \"Walking\": 2,\"Motorbike\": 3,\"Bike\": 4} \n",
    "data['MTRANS'] = data['MTRANS'].map(MTRANS)"
   ]
  },
  {
   "cell_type": "code",
   "execution_count": 25,
   "id": "74471759",
   "metadata": {},
   "outputs": [],
   "source": [
    "## Creating feature and target variable\n",
    "\n",
    "#Creating dataframe for features\n",
    "X = data[['Gender','Age','Height','family_history_with_overweight','FAVC','FCVC','NCP','CAEC','SMOKE','CH2O','SCC','FAF','TUE','CALC','MTRANS','NObeyesdad']]\n",
    "\n",
    "#Creating dataframe for target\n",
    "y = data['Weight']"
   ]
  },
  {
   "cell_type": "code",
   "execution_count": 26,
   "id": "97a78e33",
   "metadata": {},
   "outputs": [
    {
     "name": "stdout",
     "output_type": "stream",
     "text": [
      "(1937, 16) (1937,)\n"
     ]
    }
   ],
   "source": [
    "print(X.shape, y.shape)"
   ]
  },
  {
   "cell_type": "code",
   "execution_count": 27,
   "id": "96d40a9e",
   "metadata": {},
   "outputs": [
    {
     "name": "stdout",
     "output_type": "stream",
     "text": [
      "(1549, 16) (388, 16) (1549,) (388,)\n"
     ]
    }
   ],
   "source": [
    "#Splitting the dataset into train and test data\n",
    "\n",
    "X_train, X_test, y_train, y_test = train_test_split(X, y, test_size = 0.20, random_state = 42)\n",
    "print(X_train.shape, X_test.shape, y_train.shape, y_test.shape)"
   ]
  },
  {
   "cell_type": "markdown",
   "id": "b03115a3",
   "metadata": {},
   "source": [
    "## Feature selection"
   ]
  },
  {
   "cell_type": "code",
   "execution_count": 28,
   "id": "e60d9c39",
   "metadata": {},
   "outputs": [],
   "source": [
    "# Scale the input features\n",
    "\n",
    "scaler = StandardScaler()\n",
    "X_train_scaled = scaler.fit_transform(X_train)\n",
    "X_test_scaled = scaler.transform(X_test)"
   ]
  },
  {
   "cell_type": "markdown",
   "id": "e9125246",
   "metadata": {},
   "source": [
    "## Model Building and Evaluation"
   ]
  },
  {
   "cell_type": "markdown",
   "id": "b5fb11bd",
   "metadata": {},
   "source": [
    "### Linear Regression"
   ]
  },
  {
   "cell_type": "code",
   "execution_count": 29,
   "id": "2cdacf0c",
   "metadata": {},
   "outputs": [
    {
     "data": {
      "text/plain": [
       "array([ 45.7586067 ,  61.58948196,  79.20330678, 107.29795281,\n",
       "       111.84290505, 138.70082119, 104.82782846,  85.84986236,\n",
       "       108.0519559 ,  78.40152354,  89.16337036, 106.31845158,\n",
       "        51.58908122, 105.04788053, 109.02260569,  66.13935235,\n",
       "        89.10880765,  97.32423744,  66.76141965,  81.2534811 ,\n",
       "        78.70626355,  50.76875046,  71.82412375,  72.85205055,\n",
       "        85.91307542,  64.75273062, 103.42212327, 102.89610007,\n",
       "       103.1822698 ,  35.80337281,  64.45776627,  94.02286126,\n",
       "       109.75397364, 109.36300223,  72.56122938, 107.6135373 ,\n",
       "        42.85217044, 101.14419914, 119.32264912,  49.34981571,\n",
       "        31.60885356, 110.43179823,  98.58372742,  72.8817223 ,\n",
       "       103.18630734, 100.51502579, 115.20135617,  31.94742042,\n",
       "        74.41541621,  58.04046841,  58.69835436, 117.20346948,\n",
       "       114.20720346,  56.3956357 ,  61.20512013, 105.53560867,\n",
       "        72.01503762,  80.07926239,  65.54121052, 124.61446214,\n",
       "       117.86982182, 101.64885596, 122.79117506, 100.76854748,\n",
       "        61.73062581, 114.74503497,  58.98637499, 103.48663066,\n",
       "        74.74023962, 104.16429107,  47.55520721,  77.38555694,\n",
       "        96.51555029, 108.26343606,  48.15989232, 115.03013997,\n",
       "       110.75334699,  96.44021063,  82.60086705,  76.41748198,\n",
       "       102.09724691,  49.46190735,  82.31241134,  70.67406256,\n",
       "        93.98431289, 103.55701758, 122.46803474, 109.25814235,\n",
       "        64.07831379, 107.48303238, 112.99900084,  66.31334354,\n",
       "        66.55752709,  53.58493585, 123.60372786, 105.46022597,\n",
       "        62.74640819,  46.35513766, 107.58611365, 104.18942578,\n",
       "        84.14451668,  95.15836058,  74.67670312,  98.21855466,\n",
       "        72.67189046, 109.18061108,  63.29260698,  61.20425301,\n",
       "        74.65511961,  50.05678163, 103.87791007,  92.44341021,\n",
       "        93.83838206,  97.57342178,  87.64090075, 108.25864528,\n",
       "       103.39727297,  65.40271122, 126.44042435, 103.03859356,\n",
       "       101.36772044,  64.35412175,  68.58882692, 123.16789062,\n",
       "       124.22238238, 134.41566909, 125.18919924,  59.1922419 ,\n",
       "       100.4834484 , 116.97661063, 111.93790201, 108.2753272 ,\n",
       "        62.26560522,  61.81959011, 125.93207288,  55.53001715,\n",
       "        52.62296372, 104.31506288,  69.53880355,  38.13999942,\n",
       "       103.73641514, 109.21531954,  83.21947962,  91.82238062,\n",
       "       110.62900915,  69.6219371 ,  58.7848284 , 110.73033655,\n",
       "        68.4096445 , 100.52795977, 103.84440932,  82.34835039,\n",
       "       122.9347926 , 105.2269085 ,  43.31442676, 105.57406901,\n",
       "        67.18586338, 132.9523735 ,  43.21020378, 125.45335207,\n",
       "        71.75747374,  58.40832823,  63.88727879,  61.20425301,\n",
       "        83.27521273, 111.72708384,  66.0836531 ,  78.40854634,\n",
       "       111.98382929,  50.74486285, 104.87204221, 105.91950474,\n",
       "        53.64730471,  78.69960903,  69.63954189,  86.53249668,\n",
       "        66.86593678,  51.29985334,  71.99365342, 105.77697419,\n",
       "        67.75985843,  70.97338565, 116.42054959,  86.6639302 ,\n",
       "        60.08525857,  47.94429498,  91.43870004, 106.47256661,\n",
       "       103.65466954,  77.71528473, 100.23274686, 112.66925753,\n",
       "        50.78947206,  43.38514626, 125.70199466,  99.99848872,\n",
       "        47.70225628,  47.71850823,  75.09894669, 113.40956453,\n",
       "        60.41542654, 113.35639791,  82.79864273, 124.48587842,\n",
       "        78.1475793 ,  78.25503661,  80.37374093,  70.87074537,\n",
       "       122.18663485,  93.4687467 , 125.18437119, 104.35924656,\n",
       "       106.57583003,  64.53244132,  48.20097768, 101.13493043,\n",
       "        90.61145557, 102.75166712,  53.96641372,  79.66221716,\n",
       "        99.75723918, 109.94181315,  92.04244695,  97.78327855,\n",
       "        54.92023007,  43.5543965 ,  62.8328257 ,  60.9752126 ,\n",
       "        83.95248497, 101.5568197 , 119.91050348,  47.92513404,\n",
       "        38.45149412, 107.6403797 ,  89.25186664,  61.48463353,\n",
       "       115.62429072,  52.73015853,  43.54943772,  93.16151788,\n",
       "        54.0985239 ,  45.86191489,  89.72909345, 101.97368125,\n",
       "        44.62965248,  59.08509532,  84.10992725,  44.74659362,\n",
       "        84.9123439 ,  90.41531221, 125.53008034, 111.56691143,\n",
       "        61.20425301,  72.86582961, 109.14902653,  98.8447522 ,\n",
       "       100.28541247,  48.3166853 , 114.7754674 ,  75.81479066,\n",
       "       105.45863485,  62.38217715, 100.03446757,  64.77719444,\n",
       "       112.35438631, 106.9465419 , 123.48222431, 100.18686164,\n",
       "       107.51196973,  83.775978  , 115.4224192 ,  74.74854615,\n",
       "       119.54507223,  95.65171664,  67.3428946 ,  94.93650181,\n",
       "        92.40026574, 109.60354471,  88.53414835, 116.05212979,\n",
       "        43.47714754, 115.67260254,  62.08134297,  65.10747733,\n",
       "       118.11857816,  62.18414219,  99.74811981, 104.78051423,\n",
       "        99.00809392,  43.38514626,  98.99436409, 109.9813966 ,\n",
       "        88.66566826,  73.12705925,  70.18785811,  59.6566389 ,\n",
       "        88.51161562,  62.36227069,  84.24475477, 119.66645626,\n",
       "       112.95159268, 107.12343026, 120.77072595, 111.75535001,\n",
       "       108.89278182,  91.0101597 , 117.31976801, 103.96588662,\n",
       "       104.21154444,  95.18522785, 128.18164686,  75.42321377,\n",
       "       106.94162445, 117.55292855, 113.76307123,  85.05572755,\n",
       "        56.87452914, 105.77172779, 123.31452004,  67.17469101,\n",
       "       115.04951028, 103.98933188, 115.97307481,  60.07565277,\n",
       "       120.97668281,  71.07604034, 117.35068562,  66.84897731,\n",
       "       100.15934768, 100.81588985, 101.48392728, 102.60972797,\n",
       "        68.95397063, 110.01922643,  47.56081619,  88.42524785,\n",
       "        96.98771678, 103.29575782, 110.40588185,  57.58221253,\n",
       "        65.72330374,  51.12808125, 125.15895309, 115.49395277,\n",
       "        98.21095132,  88.01567838,  97.26114008,  42.526188  ,\n",
       "        81.34066853,  61.70033307,  75.21867505,  49.72560382,\n",
       "        70.46289917,  36.38718584, 126.38483853, 113.46044106,\n",
       "        45.11882235, 107.54548919,  75.68600612,  84.87636975,\n",
       "        33.00786327, 120.76923203,  53.99860197,  81.48476799,\n",
       "        74.0747235 ,  44.20416752,  54.30284503,  70.41606506,\n",
       "       109.48060402,  44.89849026,  81.31853473,  91.98556962,\n",
       "        90.05946834, 110.27003964,  73.57819748,  54.16139128,\n",
       "        85.73120463,  92.33498492,  48.2621606 ,  54.73332985,\n",
       "       134.38315163, 106.67445944, 126.74210669, 104.68565985,\n",
       "       112.84983038, 100.34731101,  71.39235572,  61.09957184])"
      ]
     },
     "execution_count": 29,
     "metadata": {},
     "output_type": "execute_result"
    }
   ],
   "source": [
    "# Create a Linear Regression model\n",
    "lr_model = LinearRegression()\n",
    "\n",
    "# Train the model on the training set\n",
    "lr_model.fit(X_train, y_train)\n",
    "\n",
    "# Make predictions on the test set\n",
    "y_pred = lr_model.predict(X_test) \n",
    "y_pred"
   ]
  },
  {
   "cell_type": "code",
   "execution_count": 30,
   "id": "9fda0e66",
   "metadata": {},
   "outputs": [
    {
     "name": "stdout",
     "output_type": "stream",
     "text": [
      "1.0\n"
     ]
    }
   ],
   "source": [
    "accuracy_lr = lr_model.score(X_test, y_pred)\n",
    "print(accuracy_lr)"
   ]
  },
  {
   "cell_type": "code",
   "execution_count": 31,
   "id": "f4c13bab",
   "metadata": {},
   "outputs": [
    {
     "name": "stdout",
     "output_type": "stream",
     "text": [
      "Mean Absolute Error: 9.402632832959393\n",
      "Mean Squared Error: 143.17669783059802\n",
      "RMSE: 11.97\n",
      "R^2 Score: 0.80\n"
     ]
    }
   ],
   "source": [
    "# Evaluate the model\n",
    "from sklearn.metrics import mean_absolute_error #MAE\n",
    "\n",
    "mae = mean_absolute_error(y_test, y_pred)\n",
    "print(f'Mean Absolute Error: {mae}')\n",
    "\n",
    "# Evaluate the model\n",
    "from sklearn.metrics import mean_squared_error\n",
    "mse = mean_squared_error(y_test, y_pred)\n",
    "print(f'Mean Squared Error: {mse}')\n",
    "\n",
    "# Assuming y_pred and y_test are NumPy arrays or similar data structures\n",
    "rmse = np.sqrt(mean_squared_error(y_test, y_pred))\n",
    "\n",
    "print(f'RMSE: {rmse:.2f}')\n",
    "\n",
    "from sklearn.metrics import r2_score\n",
    "# Assuming y_pred and y_test are NumPy arrays or similar data structures\n",
    "r2 = r2_score(y_test, y_pred)\n",
    "\n",
    "print(f'R^2 Score: {r2:.2f}')"
   ]
  },
  {
   "cell_type": "markdown",
   "id": "6c7fe9fb",
   "metadata": {},
   "source": [
    "### Random Forest"
   ]
  },
  {
   "cell_type": "code",
   "execution_count": 37,
   "id": "7e63136f",
   "metadata": {},
   "outputs": [
    {
     "data": {
      "text/plain": [
       "array([ 45.7586067 ,  61.58948196,  79.20330678, 107.29795281,\n",
       "       111.84290505, 138.70082119, 104.82782846,  85.84986236,\n",
       "       108.0519559 ,  78.40152354,  89.16337036, 106.31845158,\n",
       "        51.58908122, 105.04788053, 109.02260569,  66.13935235,\n",
       "        89.10880765,  97.32423744,  66.76141965,  81.2534811 ,\n",
       "        78.70626355,  50.76875046,  71.82412375,  72.85205055,\n",
       "        85.91307542,  64.75273062, 103.42212327, 102.89610007,\n",
       "       103.1822698 ,  35.80337281,  64.45776627,  94.02286126,\n",
       "       109.75397364, 109.36300223,  72.56122938, 107.6135373 ,\n",
       "        42.85217044, 101.14419914, 119.32264912,  49.34981571,\n",
       "        31.60885356, 110.43179823,  98.58372742,  72.8817223 ,\n",
       "       103.18630734, 100.51502579, 115.20135617,  31.94742042,\n",
       "        74.41541621,  58.04046841,  58.69835436, 117.20346948,\n",
       "       114.20720346,  56.3956357 ,  61.20512013, 105.53560867,\n",
       "        72.01503762,  80.07926239,  65.54121052, 124.61446214,\n",
       "       117.86982182, 101.64885596, 122.79117506, 100.76854748,\n",
       "        61.73062581, 114.74503497,  58.98637499, 103.48663066,\n",
       "        74.74023962, 104.16429107,  47.55520721,  77.38555694,\n",
       "        96.51555029, 108.26343606,  48.15989232, 115.03013997,\n",
       "       110.75334699,  96.44021063,  82.60086705,  76.41748198,\n",
       "       102.09724691,  49.46190735,  82.31241134,  70.67406256,\n",
       "        93.98431289, 103.55701758, 122.46803474, 109.25814235,\n",
       "        64.07831379, 107.48303238, 112.99900084,  66.31334354,\n",
       "        66.55752709,  53.58493585, 123.60372786, 105.46022597,\n",
       "        62.74640819,  46.35513766, 107.58611365, 104.18942578,\n",
       "        84.14451668,  95.15836058,  74.67670312,  98.21855466,\n",
       "        72.67189046, 109.18061108,  63.29260698,  61.20425301,\n",
       "        74.65511961,  50.05678163, 103.87791007,  92.44341021,\n",
       "        93.83838206,  97.57342178,  87.64090075, 108.25864528,\n",
       "       103.39727297,  65.40271122, 126.44042435, 103.03859356,\n",
       "       101.36772044,  64.35412175,  68.58882692, 123.16789062,\n",
       "       124.22238238, 134.41566909, 125.18919924,  59.1922419 ,\n",
       "       100.4834484 , 116.97661063, 111.93790201, 108.2753272 ,\n",
       "        62.26560522,  61.81959011, 125.93207288,  55.53001715,\n",
       "        52.62296372, 104.31506288,  69.53880355,  38.13999942,\n",
       "       103.73641514, 109.21531954,  83.21947962,  91.82238062,\n",
       "       110.62900915,  69.6219371 ,  58.7848284 , 110.73033655,\n",
       "        68.4096445 , 100.52795977, 103.84440932,  82.34835039,\n",
       "       122.9347926 , 105.2269085 ,  43.31442676, 105.57406901,\n",
       "        67.18586338, 132.9523735 ,  43.21020378, 125.45335207,\n",
       "        71.75747374,  58.40832823,  63.88727879,  61.20425301,\n",
       "        83.27521273, 111.72708384,  66.0836531 ,  78.40854634,\n",
       "       111.98382929,  50.74486285, 104.87204221, 105.91950474,\n",
       "        53.64730471,  78.69960903,  69.63954189,  86.53249668,\n",
       "        66.86593678,  51.29985334,  71.99365342, 105.77697419,\n",
       "        67.75985843,  70.97338565, 116.42054959,  86.6639302 ,\n",
       "        60.08525857,  47.94429498,  91.43870004, 106.47256661,\n",
       "       103.65466954,  77.71528473, 100.23274686, 112.66925753,\n",
       "        50.78947206,  43.38514626, 125.70199466,  99.99848872,\n",
       "        47.70225628,  47.71850823,  75.09894669, 113.40956453,\n",
       "        60.41542654, 113.35639791,  82.79864273, 124.48587842,\n",
       "        78.1475793 ,  78.25503661,  80.37374093,  70.87074537,\n",
       "       122.18663485,  93.4687467 , 125.18437119, 104.35924656,\n",
       "       106.57583003,  64.53244132,  48.20097768, 101.13493043,\n",
       "        90.61145557, 102.75166712,  53.96641372,  79.66221716,\n",
       "        99.75723918, 109.94181315,  92.04244695,  97.78327855,\n",
       "        54.92023007,  43.5543965 ,  62.8328257 ,  60.9752126 ,\n",
       "        83.95248497, 101.5568197 , 119.91050348,  47.92513404,\n",
       "        38.45149412, 107.6403797 ,  89.25186664,  61.48463353,\n",
       "       115.62429072,  52.73015853,  43.54943772,  93.16151788,\n",
       "        54.0985239 ,  45.86191489,  89.72909345, 101.97368125,\n",
       "        44.62965248,  59.08509532,  84.10992725,  44.74659362,\n",
       "        84.9123439 ,  90.41531221, 125.53008034, 111.56691143,\n",
       "        61.20425301,  72.86582961, 109.14902653,  98.8447522 ,\n",
       "       100.28541247,  48.3166853 , 114.7754674 ,  75.81479066,\n",
       "       105.45863485,  62.38217715, 100.03446757,  64.77719444,\n",
       "       112.35438631, 106.9465419 , 123.48222431, 100.18686164,\n",
       "       107.51196973,  83.775978  , 115.4224192 ,  74.74854615,\n",
       "       119.54507223,  95.65171664,  67.3428946 ,  94.93650181,\n",
       "        92.40026574, 109.60354471,  88.53414835, 116.05212979,\n",
       "        43.47714754, 115.67260254,  62.08134297,  65.10747733,\n",
       "       118.11857816,  62.18414219,  99.74811981, 104.78051423,\n",
       "        99.00809392,  43.38514626,  98.99436409, 109.9813966 ,\n",
       "        88.66566826,  73.12705925,  70.18785811,  59.6566389 ,\n",
       "        88.51161562,  62.36227069,  84.24475477, 119.66645626,\n",
       "       112.95159268, 107.12343026, 120.77072595, 111.75535001,\n",
       "       108.89278182,  91.0101597 , 117.31976801, 103.96588662,\n",
       "       104.21154444,  95.18522785, 128.18164686,  75.42321377,\n",
       "       106.94162445, 117.55292855, 113.76307123,  85.05572755,\n",
       "        56.87452914, 105.77172779, 123.31452004,  67.17469101,\n",
       "       115.04951028, 103.98933188, 115.97307481,  60.07565277,\n",
       "       120.97668281,  71.07604034, 117.35068562,  66.84897731,\n",
       "       100.15934768, 100.81588985, 101.48392728, 102.60972797,\n",
       "        68.95397063, 110.01922643,  47.56081619,  88.42524785,\n",
       "        96.98771678, 103.29575782, 110.40588185,  57.58221253,\n",
       "        65.72330374,  51.12808125, 125.15895309, 115.49395277,\n",
       "        98.21095132,  88.01567838,  97.26114008,  42.526188  ,\n",
       "        81.34066853,  61.70033307,  75.21867505,  49.72560382,\n",
       "        70.46289917,  36.38718584, 126.38483853, 113.46044106,\n",
       "        45.11882235, 107.54548919,  75.68600612,  84.87636975,\n",
       "        33.00786327, 120.76923203,  53.99860197,  81.48476799,\n",
       "        74.0747235 ,  44.20416752,  54.30284503,  70.41606506,\n",
       "       109.48060402,  44.89849026,  81.31853473,  91.98556962,\n",
       "        90.05946834, 110.27003964,  73.57819748,  54.16139128,\n",
       "        85.73120463,  92.33498492,  48.2621606 ,  54.73332985,\n",
       "       134.38315163, 106.67445944, 126.74210669, 104.68565985,\n",
       "       112.84983038, 100.34731101,  71.39235572,  61.09957184])"
      ]
     },
     "execution_count": 37,
     "metadata": {},
     "output_type": "execute_result"
    }
   ],
   "source": [
    "rf_model = RandomForestRegressor(n_estimators= 100, max_depth=25) #Instantiate an object\n",
    "\n",
    "rf_model.fit(X_train, y_train)\n",
    "\n",
    "# Make predictions on the test set\n",
    "rf_pred = lr_model.predict(X_test) \n",
    "rf_pred"
   ]
  },
  {
   "cell_type": "code",
   "execution_count": 34,
   "id": "089aa835",
   "metadata": {},
   "outputs": [
    {
     "data": {
      "text/plain": [
       "0.7742582952209778"
      ]
     },
     "execution_count": 34,
     "metadata": {},
     "output_type": "execute_result"
    }
   ],
   "source": [
    "accuracy_dr = rf_model.score(X_test, rf_pred)\n",
    "accuracy_dr"
   ]
  },
  {
   "cell_type": "code",
   "execution_count": 35,
   "id": "9a17db9f",
   "metadata": {},
   "outputs": [
    {
     "name": "stdout",
     "output_type": "stream",
     "text": [
      "Mean Absolute Error: 9.402632832959393\n",
      "Mean Squared Error: 143.17669783059802\n",
      "RMSE: 11.97\n",
      "R^2 Score: 0.80\n"
     ]
    }
   ],
   "source": [
    "# Evaluate the model\n",
    "from sklearn.metrics import mean_absolute_error #MAE\n",
    "\n",
    "mae = mean_absolute_error(y_test, rf_pred)\n",
    "print(f'Mean Absolute Error: {mae}')\n",
    "\n",
    "# Evaluate the model\n",
    "from sklearn.metrics import mean_squared_error\n",
    "mse = mean_squared_error(y_test, rf_pred)\n",
    "print(f'Mean Squared Error: {mse}')\n",
    "\n",
    "# Assuming y_pred and y_test are NumPy arrays or similar data structures\n",
    "rmse = np.sqrt(mean_squared_error(y_test, rf_pred))\n",
    "\n",
    "print(f'RMSE: {rmse:.2f}')\n",
    "\n",
    "from sklearn.metrics import r2_score\n",
    "# Assuming y_pred and y_test are NumPy arrays or similar data structures\n",
    "r2 = r2_score(y_test, rf_pred)\n",
    "\n",
    "print(f'R^2 Score: {r2:.2f}')"
   ]
  },
  {
   "cell_type": "markdown",
   "id": "a6d46f3e",
   "metadata": {},
   "source": [
    "## Conclusion"
   ]
  },
  {
   "cell_type": "markdown",
   "id": "c03da0c0",
   "metadata": {},
   "source": [
    "From this two models, we can analyze that\n",
    "\n",
    "Linear Regression has the best performance in terms of accuracy ,with the lowest MAE,MSE,RMSE Values\n",
    "\n",
    "\n"
   ]
  },
  {
   "cell_type": "code",
   "execution_count": null,
   "id": "c72ebab7",
   "metadata": {},
   "outputs": [],
   "source": []
  }
 ],
 "metadata": {
  "kernelspec": {
   "display_name": "Python 3 (ipykernel)",
   "language": "python",
   "name": "python3"
  },
  "language_info": {
   "codemirror_mode": {
    "name": "ipython",
    "version": 3
   },
   "file_extension": ".py",
   "mimetype": "text/x-python",
   "name": "python",
   "nbconvert_exporter": "python",
   "pygments_lexer": "ipython3",
   "version": "3.11.4"
  }
 },
 "nbformat": 4,
 "nbformat_minor": 5
}
